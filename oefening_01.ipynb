{
 "cells": [
  {
   "cell_type": "markdown",
   "id": "d28c4420-d4a2-4336-a4a0-12316d3a7555",
   "metadata": {},
   "source": [
    "# Oefening 01\n",
    "bron: [competitive-olympics](https://github.com/c-l-nguyen/competitive-olympics/blob/master/olympic_games.csv)  \n",
    "door: Chris Nguyen"
   ]
  },
  {
   "cell_type": "markdown",
   "id": "11e62f62-df91-47d4-ab2e-a3a596e9d793",
   "metadata": {},
   "source": [
    "## Stap 01: CSV-bestand downloaden"
   ]
  },
  {
   "cell_type": "code",
   "execution_count": 1,
   "id": "498b0ada-bce3-4f05-92d7-45092b2b7415",
   "metadata": {},
   "outputs": [],
   "source": [
    "from os.path import exists\n",
    "from urllib.request import urlretrieve\n",
    "\n",
    "url = 'https://raw.githubusercontent.com/c-l-nguyen/competitive-olympics/refs/heads/master/olympic_games.csv'\n",
    "bestand = 'olympsche_spelen.csv'\n",
    "\n",
    "if not exists(bestand):\n",
    "    urlretrieve(url, bestand)"
   ]
  },
  {
   "cell_type": "markdown",
   "id": "8d8fbff9-accb-4548-9f49-465c3d070d89",
   "metadata": {},
   "source": [
    "## Stap 02: Inlezen CSV"
   ]
  },
  {
   "cell_type": "code",
   "execution_count": 2,
   "id": "97e51017-8352-4308-b061-f49320e953d1",
   "metadata": {
    "editable": true,
    "slideshow": {
     "slide_type": ""
    },
    "tags": []
   },
   "outputs": [],
   "source": [
    "import csv\n",
    "from rom import rom_parse\n",
    "import traceback\n",
    "\n",
    "osEuropa = []\n",
    "\n",
    "try:\n",
    "    with open(bestand, 'rt', encoding='utf-8') as bestandLees:\n",
    "        csvLees = csv.reader(bestandLees)\n",
    "\n",
    "        for lijn in csvLees:\n",
    "            if lijn[0].split('[')[0].strip().lower() == 'europe':\n",
    "                osEuropa.append([rom_parse(lijn[1]), lijn[2], lijn[5].upper()])\n",
    "except Exception as ex:\n",
    "    print(traceback.format_exception(ex))"
   ]
  },
  {
   "cell_type": "markdown",
   "id": "da89fd55-f773-44e6-b1b0-5b99f4629728",
   "metadata": {
    "editable": true,
    "slideshow": {
     "slide_type": ""
    },
    "tags": []
   },
   "source": [
    "## Stap 03: Wegschrijven CSV"
   ]
  },
  {
   "cell_type": "code",
   "execution_count": 3,
   "id": "8f9443c9-c0f8-4430-a4ad-0de0fccb319c",
   "metadata": {},
   "outputs": [],
   "source": [
    "try:\n",
    "    with open('osEuropa.csv', 'wt', encoding='utf-8') as bestandSchrijf:\n",
    "        csvSchrijf = csv.writer(bestandSchrijf)\n",
    "\n",
    "        csvSchrijf.writerow(['spelen','jaar','stad'])\n",
    "\n",
    "        for lijn in osEuropa:\n",
    "            csvSchrijf.writerow(lijn)\n",
    "except Exception as ex:\n",
    "    print(traceback_exception(ex))   "
   ]
  },
  {
   "cell_type": "markdown",
   "id": "6bde37fd-0f37-444e-ad9d-9e9f649f1990",
   "metadata": {},
   "source": [
    "## Stap 04: Lijst"
   ]
  },
  {
   "cell_type": "code",
   "execution_count": 4,
   "id": "9468e123-538f-490f-8d22-025f8cca7375",
   "metadata": {
    "editable": true,
    "slideshow": {
     "slide_type": ""
    },
    "tags": []
   },
   "outputs": [
    {
     "name": "stdout",
     "output_type": "stream",
     "text": [
      "\u001b[45mspelen | jaar |stad            \u001b[0m\n",
      "\u001b[43m1      | 1896 |ATHENS          \u001b[0m\n",
      "\u001b[47m2      | 1900 |PARIS           \u001b[0m\n",
      "\u001b[43m4      | 1908 |LONDON          \u001b[0m\n",
      "\u001b[47m5      | 1912 |STOCKHOLM       \u001b[0m\n",
      "\u001b[43m7      | 1920 |ANTWERP         \u001b[0m\n",
      "\u001b[47m8      | 1924 |PARIS           \u001b[0m\n",
      "\u001b[43m9      | 1928 |AMSTERDAM       \u001b[0m\n",
      "\u001b[47m11     | 1936 |BERLIN          \u001b[0m\n",
      "\u001b[43m14     | 1948 |LONDON          \u001b[0m\n",
      "\u001b[47m15     | 1952 |HELSINKI        \u001b[0m\n",
      "\u001b[43m17     | 1960 |ROME            \u001b[0m\n",
      "\u001b[47m20     | 1972 |MUNICH          \u001b[0m\n",
      "\u001b[43m22     | 1980 |MOSCOW          \u001b[0m\n",
      "\u001b[47m25     | 1992 |BARCELONA       \u001b[0m\n",
      "\u001b[43m28     | 2004 |ATHENS          \u001b[0m\n",
      "\u001b[47m30     | 2012 |LONDON          \u001b[0m\n",
      "\u001b[43m33     | 2024 |PARIS           \u001b[0m\n"
     ]
    }
   ],
   "source": [
    "from colorama import Back, Style\n",
    "import os\n",
    "\n",
    "print(f'{Back.MAGENTA}{\"spelen\":<7}|{\"jaar\":^6}|{\"stad\":<16}{Style.RESET_ALL}')\n",
    "\n",
    "for ndx, lijn in enumerate(osEuropa):\n",
    "    kleur = Back.YELLOW if ndx % 2 == 0 else Back.WHITE\n",
    "    print(f'{kleur}{lijn[0]:<7}|{lijn[1]:^6}|{lijn[2]:<16}{Style.RESET_ALL}')"
   ]
  },
  {
   "cell_type": "markdown",
   "id": "07ad4565-42cc-45a0-a765-c133e031ea06",
   "metadata": {},
   "source": [
    "## Stap 05: Database"
   ]
  },
  {
   "cell_type": "code",
   "execution_count": 5,
   "id": "c6d0926c-e80e-4054-93ee-880ded993421",
   "metadata": {},
   "outputs": [],
   "source": [
    "import sqlite3\n",
    "\n",
    "dbVerbinding = sqlite3.connect('olympischespelen.sqlite3')\n",
    "dbCursor = dbVerbinding.cursor()"
   ]
  },
  {
   "cell_type": "markdown",
   "id": "88804a65-d6b4-4490-91ae-8ce8413ebe5f",
   "metadata": {},
   "source": [
    "### > tabel Continent"
   ]
  },
  {
   "cell_type": "code",
   "execution_count": 6,
   "id": "e6598db7-adec-4ab5-920e-485ed275d6ed",
   "metadata": {},
   "outputs": [],
   "source": [
    "# tabel continent\n",
    "dbSql = '''\n",
    "    DROP TABLE IF EXISTS continent\n",
    "'''\n",
    "dbCursor.execute(dbSql)\n",
    "\n",
    "dbSql = '''\n",
    "    CREATE TABLE continent(\n",
    "    continentID TEXT NOT NULL PRIMARY KEY\n",
    "    )\n",
    "'''\n",
    "dbCursor.execute(dbSql)\n",
    "\n",
    "continenten = set()\n",
    "\n",
    "try:\n",
    "    with open(bestand, 'rt', encoding='utf-8') as bestandLees:\n",
    "        csvLees = csv.reader(bestandLees)\n",
    "        for lijn in csvLees:\n",
    "            continent = lijn[0].split('[')[0].strip().upper()\n",
    "            continenten.add(continent)\n",
    "except Exception as ex:\n",
    "    print(ex)\n",
    "\n",
    "dbSql = '''\n",
    "    INSERT INTO continent(continentID)\n",
    "    VALUES(?)\n",
    "'''\n",
    "\n",
    "for continent in continenten:\n",
    "    dbCursor.execute(dbSql, (continent,))\n",
    "\n",
    "dbVerbinding.commit()"
   ]
  },
  {
   "cell_type": "markdown",
   "id": "10bef135-7e9f-4438-933c-cd07539f0c20",
   "metadata": {},
   "source": [
    "### > tabel spelen"
   ]
  },
  {
   "cell_type": "code",
   "execution_count": 7,
   "id": "6fc188e9-754b-4f49-921a-70e3d8211265",
   "metadata": {},
   "outputs": [],
   "source": [
    "# tabel continent\n",
    "dbSql = '''\n",
    "    DROP TABLE IF EXISTS spel\n",
    "'''\n",
    "dbCursor.execute(dbSql)\n",
    "\n",
    "dbSql = '''\n",
    "    CREATE TABLE spel(\n",
    "    spelID INTEGER NOT NULL PRIMARY KEY,\n",
    "    jaar INTEGER NOT NULL,\n",
    "    continentID INTEGER NOT NULL,\n",
    "    stad TEXT NOT NULL\n",
    "    )\n",
    "'''\n",
    "dbCursor.execute(dbSql)\n",
    "\n",
    "try:\n",
    "    dbSql = '''\n",
    "        INSERT INTO spel(spelID, jaar, continentID, stad)\n",
    "        VALUES (?, ?, ?, ?)\n",
    "    '''\n",
    "    with open(bestand, 'rt', encoding='utf-8') as bestandLees:\n",
    "        csvLees = csv.reader(bestandLees)\n",
    "        next(csvLees)\n",
    "        for lijn in csvLees:\n",
    "            continentID = lijn[0].split('[')[0].strip().upper()\n",
    "            spelID = rom_parse(lijn[1])\n",
    "            jaar = int(lijn[2])\n",
    "            stad = lijn[5]\n",
    "\n",
    "            dbCursor.execute(dbSql, (spelID, jaar, continentID, stad))\n",
    "            \n",
    "    dbVerbinding.commit()\n",
    "except Exception as ex:\n",
    "    print(traceback.format_exception(ex))"
   ]
  },
  {
   "cell_type": "code",
   "execution_count": 8,
   "id": "663c648b-841b-4aa7-9071-c0a0c588c312",
   "metadata": {},
   "outputs": [],
   "source": [
    "if dbCursor: dbCursor.close()\n",
    "if dbVerbinding: dbVerbinding.close()"
   ]
  }
 ],
 "metadata": {
  "kernelspec": {
   "display_name": "Python 3 (ipykernel)",
   "language": "python",
   "name": "python3"
  },
  "language_info": {
   "codemirror_mode": {
    "name": "ipython",
    "version": 3
   },
   "file_extension": ".py",
   "mimetype": "text/x-python",
   "name": "python",
   "nbconvert_exporter": "python",
   "pygments_lexer": "ipython3",
   "version": "3.13.0"
  }
 },
 "nbformat": 4,
 "nbformat_minor": 5
}
